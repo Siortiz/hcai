{
 "cells": [
  {
   "cell_type": "markdown",
   "metadata": {},
   "source": [
    "Probamos que la librería de acceso a archivos HDF5 de Python, `h5py`, funciona correctamente."
   ]
  },
  {
   "cell_type": "code",
   "execution_count": 1,
   "metadata": {},
   "outputs": [],
   "source": [
    "import h5py"
   ]
  },
  {
   "cell_type": "code",
   "execution_count": 2,
   "metadata": {},
   "outputs": [],
   "source": [
    "#Creamos un archivo en modo escritura\n",
    "f = h5py.File(\"prueba.h5\", \"w\")"
   ]
  },
  {
   "cell_type": "code",
   "execution_count": 3,
   "metadata": {},
   "outputs": [],
   "source": [
    "#lo cerramos: \n",
    "f.close()"
   ]
  },
  {
   "cell_type": "markdown",
   "metadata": {},
   "source": [
    "## Tipos de datos que almacena un HDF5"
   ]
  },
  {
   "cell_type": "markdown",
   "metadata": {},
   "source": [
    "### Grupos:"
   ]
  },
  {
   "cell_type": "markdown",
   "metadata": {},
   "source": [
    "Podemos crear grupos en un archivo, aunque estos se pueden crear automáticamente al momento de guardar un dataset"
   ]
  },
  {
   "cell_type": "code",
   "execution_count": 5,
   "metadata": {},
   "outputs": [],
   "source": [
    "# Abrimos el archuvo anterior en modo lectura y escritura:\n",
    "\n",
    "f = h5py.File(\"prueba.h5\", \"r+\")"
   ]
  },
  {
   "cell_type": "code",
   "execution_count": 7,
   "metadata": {},
   "outputs": [
    {
     "data": {
      "text/plain": [
       "<HDF5 group \"/Data\" (0 members)>"
      ]
     },
     "execution_count": 7,
     "metadata": {},
     "output_type": "execute_result"
    }
   ],
   "source": [
    "f.create_group(\"Header\")\n",
    "f.create_group(\"Data\")"
   ]
  },
  {
   "cell_type": "code",
   "execution_count": null,
   "metadata": {},
   "outputs": [],
   "source": [
    "#Para consultar lo que hay en un archivo, usamos .keys()\n",
    "f.keys()"
   ]
  },
  {
   "cell_type": "code",
   "execution_count": 8,
   "metadata": {},
   "outputs": [
    {
     "data": {
      "text/plain": [
       "['Data', 'Header']"
      ]
     },
     "execution_count": 8,
     "metadata": {},
     "output_type": "execute_result"
    }
   ],
   "source": [
    "list(f.keys())"
   ]
  },
  {
   "cell_type": "code",
   "execution_count": 9,
   "metadata": {},
   "outputs": [],
   "source": [
    "f.close()"
   ]
  },
  {
   "cell_type": "markdown",
   "metadata": {},
   "source": [
    "### Datasets:"
   ]
  },
  {
   "cell_type": "markdown",
   "metadata": {},
   "source": [
    "Podemos crear datasets vacíos (de cierto tamaño y tipo de dato definido), así como \"llenos\" directamente."
   ]
  },
  {
   "cell_type": "code",
   "execution_count": 13,
   "metadata": {},
   "outputs": [],
   "source": [
    "#Cargamos datos del ejemplo de la clase:\n",
    "\n",
    "import numpy as np\n",
    "\n",
    "rand1 = np.loadtxt(\"/home/sebastian/Documents/Magister/hcai2023/Codes/3.2/datos.txt\", usecols=[1], unpack=True)"
   ]
  },
  {
   "cell_type": "code",
   "execution_count": 15,
   "metadata": {},
   "outputs": [],
   "source": [
    "#Abrimos nuevamente el archivo en modo r+:\n",
    "\n",
    "f = h5py.File(\"prueba.h5\", \"r+\")"
   ]
  },
  {
   "cell_type": "code",
   "execution_count": 16,
   "metadata": {},
   "outputs": [],
   "source": [
    "#Almacenamos nuestro array:\n",
    "f[\"rand1\"] = rand1"
   ]
  },
  {
   "cell_type": "code",
   "execution_count": 17,
   "metadata": {},
   "outputs": [],
   "source": [
    "f.close()"
   ]
  },
  {
   "cell_type": "code",
   "execution_count": 18,
   "metadata": {},
   "outputs": [],
   "source": [
    "#También puedo agregar datos dentro de los grupos:\n",
    "f = h5py.File(\"prueba.h5\", \"r+\")\n",
    "f['Data/rand2'] = rand1+10.7"
   ]
  },
  {
   "cell_type": "code",
   "execution_count": 19,
   "metadata": {},
   "outputs": [],
   "source": [
    "f.close()"
   ]
  },
  {
   "cell_type": "code",
   "execution_count": 20,
   "metadata": {},
   "outputs": [],
   "source": [
    "#Incluso, los grupos nuevos se crean automáticamente al momento de almacenar un dataset:\n",
    "f = h5py.File(\"prueba.h5\", \"r+\")\n",
    "f['DataBad/rand3'] = rand1/0.68"
   ]
  },
  {
   "cell_type": "code",
   "execution_count": 21,
   "metadata": {},
   "outputs": [],
   "source": [
    "f.close()"
   ]
  },
  {
   "cell_type": "markdown",
   "metadata": {},
   "source": [
    "Para leer los datos, utilizamos la misma estrategia que los objetos compuestos de numpy utilizando el objeto que contiene el archivo HDF5:"
   ]
  },
  {
   "cell_type": "code",
   "execution_count": 22,
   "metadata": {},
   "outputs": [],
   "source": [
    "f = h5py.File(\"prueba.h5\", \"r\")"
   ]
  },
  {
   "cell_type": "code",
   "execution_count": 24,
   "metadata": {},
   "outputs": [
    {
     "data": {
      "text/plain": [
       "array([-0.750514,  1.513391, -0.257402,  2.42373 , -0.937215,  0.607678,\n",
       "       -0.802247, -0.03792 , -1.16919 , -1.32793 , -1.44829 ,  0.434063,\n",
       "       -0.888893,  1.350377, -0.389023,  0.154864, -1.156754, -1.201204,\n",
       "       -0.622379,  0.389723,  0.584301,  1.207718,  0.113014, -1.357977,\n",
       "       -0.048609, -0.230104, -0.647716,  0.394307,  0.467628,  0.684698,\n",
       "        1.343784,  0.045572,  0.888684,  1.378604,  0.309605, -0.115059,\n",
       "        0.074366,  1.317366,  2.239764,  0.195176, -1.171153, -1.399296,\n",
       "       -0.244733,  0.890791, -0.007609, -0.335468,  0.807286,  1.854221,\n",
       "        0.395264,  0.748414])"
      ]
     },
     "execution_count": 24,
     "metadata": {},
     "output_type": "execute_result"
    }
   ],
   "source": [
    "#Utilizando el label y el operador de indexación, se puede acceder al contenido del archivo:\n",
    "f['rand1'][:50]"
   ]
  },
  {
   "cell_type": "code",
   "execution_count": 25,
   "metadata": {},
   "outputs": [],
   "source": [
    "#Para trabajar con los datos del HDF5, es conveniente copiar los valores a la memoria RAM:\n",
    "mi_array = f['rand1'][:]"
   ]
  },
  {
   "cell_type": "code",
   "execution_count": 26,
   "metadata": {},
   "outputs": [
    {
     "data": {
      "text/plain": [
       "array([-0.750514,  1.513391, -0.257402, ...,  0.629598,  0.037971,\n",
       "        0.256897])"
      ]
     },
     "execution_count": 26,
     "metadata": {},
     "output_type": "execute_result"
    }
   ],
   "source": [
    "mi_array"
   ]
  },
  {
   "cell_type": "code",
   "execution_count": 27,
   "metadata": {},
   "outputs": [],
   "source": [
    "f.close()"
   ]
  }
 ],
 "metadata": {
  "kernelspec": {
   "display_name": "Python 3",
   "language": "python",
   "name": "python3"
  },
  "language_info": {
   "codemirror_mode": {
    "name": "ipython",
    "version": 3
   },
   "file_extension": ".py",
   "mimetype": "text/x-python",
   "name": "python",
   "nbconvert_exporter": "python",
   "pygments_lexer": "ipython3",
   "version": "3.8.5"
  }
 },
 "nbformat": 4,
 "nbformat_minor": 4
}
