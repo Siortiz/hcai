{
 "cells": [
  {
   "cell_type": "markdown",
   "metadata": {},
   "source": [
    "## Estimación de $\\pi$\n",
    "\n",
    "Estimaremos $\\pi$ utilizando un método de Monte Carlo: cuadrado que circunscribe un círculo de radio 1."
   ]
  },
  {
   "cell_type": "markdown",
   "metadata": {},
   "source": [
    "#### Dominio y PDF\n",
    "\n",
    "Generaremos una colección de $N$ puntos $(x, y)$, donde tanto $x$ como $y$ serán variables aleatorias en el intervalo $[0, 1]$ que seguirán una distribución de probabilidad uniforme. Es decir: $P(x) \\equiv U(x)$ y $P(y) \\equiv U(y)$."
   ]
  },
  {
   "cell_type": "code",
   "execution_count": 1,
   "metadata": {},
   "outputs": [],
   "source": [
    "import random as rnd"
   ]
  },
  {
   "cell_type": "code",
   "execution_count": 2,
   "metadata": {},
   "outputs": [],
   "source": [
    "import random as rnd\n",
    "\n",
    "# Creamos nuestra generadora de puntos:\n",
    "def new_point():\n",
    "    x = rnd.uniform(0, 1)\n",
    "    y = rnd.uniform(0, 1)\n",
    "    return x, y"
   ]
  },
  {
   "cell_type": "markdown",
   "metadata": {},
   "source": [
    "#### Identificación de pertenencia al círculo\n",
    "Generamos un cálculo que nos permita determinar si un punto está en el círculo:"
   ]
  },
  {
   "cell_type": "code",
   "execution_count": 3,
   "metadata": {},
   "outputs": [],
   "source": [
    "# Dado un punto, retorna True o False según si está en el círculo:\n",
    "def check_circle(p):\n",
    "    r = (p[0]**2 + p[1]**2)**0.5\n",
    "    return (r <= 1.0)"
   ]
  },
  {
   "cell_type": "markdown",
   "metadata": {},
   "source": [
    "#### Iteración del experimento"
   ]
  },
  {
   "cell_type": "markdown",
   "metadata": {},
   "source": [
    "Almacenamos $n_i$ y $r_i$ con $i=1..N$, donde $N$ es el número máximo de puntos a generar"
   ]
  },
  {
   "cell_type": "code",
   "execution_count": 4,
   "metadata": {},
   "outputs": [],
   "source": [
    "import numpy as np"
   ]
  },
  {
   "cell_type": "code",
   "execution_count": 5,
   "metadata": {},
   "outputs": [],
   "source": [
    "N = 10000\n",
    "n = np.arange(1, N+1)\n",
    "r = np.zeros_like(n)\n",
    "r_tot = 0\n",
    "\n",
    "for i in range(N):\n",
    "    p = new_point()\n",
    "    if check_circle(p): r_tot += 1\n",
    "    r[i] = r_tot"
   ]
  },
  {
   "cell_type": "markdown",
   "metadata": {},
   "source": [
    "Graficamos la convergencia de $\\pi$:"
   ]
  },
  {
   "cell_type": "code",
   "execution_count": 6,
   "metadata": {},
   "outputs": [],
   "source": [
    "import matplotlib.pyplot as plt\n",
    "\n",
    "from math import pi"
   ]
  },
  {
   "cell_type": "code",
   "execution_count": null,
   "metadata": {},
   "outputs": [],
   "source": [
    "fig, ax = plt.subplots()\n",
    "\n",
    "ax.plot(n, 4*r/n, 'r-')\n",
    "ax.plot([0,N],[pi]*2, 'b--', zorder=1)\n",
    "ax.set_xlabel(r\"$n$\")\n",
    "ax.set_ylabel(r\"$4*r/n$\")\n",
    "ax.set_xscale('symlog')"
   ]
  },
  {
   "cell_type": "markdown",
   "metadata": {},
   "source": [
    "Nuestro último valor de Pi es:"
   ]
  },
  {
   "cell_type": "code",
   "execution_count": null,
   "metadata": {},
   "outputs": [],
   "source": [
    "4*r[-1]/n[-1]"
   ]
  },
  {
   "cell_type": "code",
   "execution_count": null,
   "metadata": {},
   "outputs": [],
   "source": []
  }
 ],
 "metadata": {
  "kernelspec": {
   "display_name": "Python 3",
   "language": "python",
   "name": "python3"
  },
  "language_info": {
   "codemirror_mode": {
    "name": "ipython",
    "version": 3
   },
   "file_extension": ".py",
   "mimetype": "text/x-python",
   "name": "python",
   "nbconvert_exporter": "python",
   "pygments_lexer": "ipython3",
   "version": "3.8.5"
  }
 },
 "nbformat": 4,
 "nbformat_minor": 5
}
