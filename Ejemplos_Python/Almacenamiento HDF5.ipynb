{
 "cells": [
  {
   "cell_type": "markdown",
   "metadata": {},
   "source": [
    "Probamos que la librería de acceso a archivos HDF5 de Python, `h5py`, funciona correctamente."
   ]
  },
  {
   "cell_type": "code",
   "execution_count": 1,
   "metadata": {},
   "outputs": [],
   "source": [
    "import h5py"
   ]
  },
  {
   "cell_type": "code",
   "execution_count": 2,
   "metadata": {},
   "outputs": [],
   "source": [
    "#Creamos un archivo en modo escritura\n",
    "f = h5py.File(\"prueba.h5\", \"w\")"
   ]
  },
  {
   "cell_type": "code",
   "execution_count": 3,
   "metadata": {},
   "outputs": [],
   "source": [
    "#lo cerramos: \n",
    "f.close()"
   ]
  },
  {
   "cell_type": "markdown",
   "metadata": {},
   "source": [
    "## Tipos de datos que almacena un HDF5"
   ]
  },
  {
   "cell_type": "markdown",
   "metadata": {},
   "source": [
    "### Grupos:"
   ]
  },
  {
   "cell_type": "markdown",
   "metadata": {},
   "source": [
    "Podemos crear grupos en un archivo, aunque estos se pueden crear automáticamente al momento de guardar un dataset"
   ]
  },
  {
   "cell_type": "code",
   "execution_count": 4,
   "metadata": {},
   "outputs": [],
   "source": [
    "# Abrimos el archuvo anterior en modo lectura y escritura:\n",
    "\n",
    "f = h5py.File(\"prueba.h5\", \"r+\")"
   ]
  },
  {
   "cell_type": "code",
   "execution_count": 5,
   "metadata": {},
   "outputs": [
    {
     "data": {
      "text/plain": [
       "<HDF5 group \"/Data\" (0 members)>"
      ]
     },
     "execution_count": 5,
     "metadata": {},
     "output_type": "execute_result"
    }
   ],
   "source": [
    "f.create_group(\"Header\")\n",
    "f.create_group(\"Data\")"
   ]
  },
  {
   "cell_type": "code",
   "execution_count": 6,
   "metadata": {},
   "outputs": [
    {
     "data": {
      "text/plain": [
       "<KeysViewHDF5 ['Data', 'Header']>"
      ]
     },
     "execution_count": 6,
     "metadata": {},
     "output_type": "execute_result"
    }
   ],
   "source": [
    "#Para consultar lo que hay en un archivo, usamos .keys()\n",
    "f.keys()"
   ]
  },
  {
   "cell_type": "code",
   "execution_count": 7,
   "metadata": {},
   "outputs": [
    {
     "data": {
      "text/plain": [
       "['Data', 'Header']"
      ]
     },
     "execution_count": 7,
     "metadata": {},
     "output_type": "execute_result"
    }
   ],
   "source": [
    "list(f.keys())"
   ]
  },
  {
   "cell_type": "code",
   "execution_count": 8,
   "metadata": {},
   "outputs": [],
   "source": [
    "f.close()"
   ]
  },
  {
   "cell_type": "markdown",
   "metadata": {},
   "source": [
    "### Datasets:"
   ]
  },
  {
   "cell_type": "markdown",
   "metadata": {},
   "source": [
    "Podemos crear datasets vacíos (de cierto tamaño y tipo de dato definido), así como \"llenos\" directamente."
   ]
  },
  {
   "cell_type": "code",
   "execution_count": 9,
   "metadata": {},
   "outputs": [],
   "source": [
    "#Cargamos datos del ejemplo de la clase:\n",
    "\n",
    "import numpy as np\n",
    "\n",
    "rand1 = np.loadtxt(\"/home/sebastian/Documents/Magister/hcai2023/Codes/3.2/datos.txt\", usecols=[1], unpack=True)"
   ]
  },
  {
   "cell_type": "code",
   "execution_count": 10,
   "metadata": {},
   "outputs": [],
   "source": [
    "#Abrimos nuevamente el archivo en modo r+:\n",
    "\n",
    "f = h5py.File(\"prueba.h5\", \"r+\")"
   ]
  },
  {
   "cell_type": "code",
   "execution_count": 11,
   "metadata": {},
   "outputs": [],
   "source": [
    "#Almacenamos nuestro array:\n",
    "f[\"rand1\"] = rand1"
   ]
  },
  {
   "cell_type": "code",
   "execution_count": 12,
   "metadata": {},
   "outputs": [],
   "source": [
    "f.close()"
   ]
  },
  {
   "cell_type": "code",
   "execution_count": 13,
   "metadata": {},
   "outputs": [],
   "source": [
    "#También puedo agregar datos dentro de los grupos:\n",
    "f = h5py.File(\"prueba.h5\", \"r+\")\n",
    "f['Data/rand2'] = rand1+10.7"
   ]
  },
  {
   "cell_type": "code",
   "execution_count": 14,
   "metadata": {},
   "outputs": [],
   "source": [
    "f.close()"
   ]
  },
  {
   "cell_type": "code",
   "execution_count": 15,
   "metadata": {},
   "outputs": [],
   "source": [
    "#Incluso, los grupos nuevos se crean automáticamente al momento de almacenar un dataset:\n",
    "f = h5py.File(\"prueba.h5\", \"r+\")\n",
    "f['DataBad/rand3'] = rand1/0.68"
   ]
  },
  {
   "cell_type": "code",
   "execution_count": 16,
   "metadata": {},
   "outputs": [],
   "source": [
    "f.close()"
   ]
  },
  {
   "cell_type": "markdown",
   "metadata": {},
   "source": [
    "Para leer los datos, utilizamos la misma estrategia que los objetos compuestos de numpy utilizando el objeto que contiene el archivo HDF5:"
   ]
  },
  {
   "cell_type": "code",
   "execution_count": 17,
   "metadata": {},
   "outputs": [],
   "source": [
    "f = h5py.File(\"prueba.h5\", \"r\")"
   ]
  },
  {
   "cell_type": "code",
   "execution_count": 18,
   "metadata": {},
   "outputs": [
    {
     "data": {
      "text/plain": [
       "array([-0.750514,  1.513391, -0.257402,  2.42373 , -0.937215,  0.607678,\n",
       "       -0.802247, -0.03792 , -1.16919 , -1.32793 , -1.44829 ,  0.434063,\n",
       "       -0.888893,  1.350377, -0.389023,  0.154864, -1.156754, -1.201204,\n",
       "       -0.622379,  0.389723,  0.584301,  1.207718,  0.113014, -1.357977,\n",
       "       -0.048609, -0.230104, -0.647716,  0.394307,  0.467628,  0.684698,\n",
       "        1.343784,  0.045572,  0.888684,  1.378604,  0.309605, -0.115059,\n",
       "        0.074366,  1.317366,  2.239764,  0.195176, -1.171153, -1.399296,\n",
       "       -0.244733,  0.890791, -0.007609, -0.335468,  0.807286,  1.854221,\n",
       "        0.395264,  0.748414])"
      ]
     },
     "execution_count": 18,
     "metadata": {},
     "output_type": "execute_result"
    }
   ],
   "source": [
    "#Utilizando el label y el operador de indexación, se puede acceder al contenido del archivo:\n",
    "f['rand1'][:50]"
   ]
  },
  {
   "cell_type": "code",
   "execution_count": 19,
   "metadata": {},
   "outputs": [],
   "source": [
    "#Para trabajar con los datos del HDF5, es conveniente copiar los valores a la memoria RAM:\n",
    "mi_array = f['rand1'][:]"
   ]
  },
  {
   "cell_type": "code",
   "execution_count": 20,
   "metadata": {},
   "outputs": [
    {
     "data": {
      "text/plain": [
       "array([-0.750514,  1.513391, -0.257402, ...,  0.629598,  0.037971,\n",
       "        0.256897])"
      ]
     },
     "execution_count": 20,
     "metadata": {},
     "output_type": "execute_result"
    }
   ],
   "source": [
    "mi_array"
   ]
  },
  {
   "cell_type": "code",
   "execution_count": 21,
   "metadata": {},
   "outputs": [],
   "source": [
    "f.close()"
   ]
  },
  {
   "cell_type": "markdown",
   "metadata": {},
   "source": [
    "Exploramos nuestro archivo creado:"
   ]
  },
  {
   "cell_type": "code",
   "execution_count": 23,
   "metadata": {},
   "outputs": [],
   "source": [
    "f = h5py.File('prueba.h5', 'r')"
   ]
  },
  {
   "cell_type": "code",
   "execution_count": 24,
   "metadata": {},
   "outputs": [
    {
     "data": {
      "text/plain": [
       "<KeysViewHDF5 ['Data', 'DataBad', 'Header', 'rand1']>"
      ]
     },
     "execution_count": 24,
     "metadata": {},
     "output_type": "execute_result"
    }
   ],
   "source": [
    "f.keys()"
   ]
  },
  {
   "cell_type": "code",
   "execution_count": 25,
   "metadata": {},
   "outputs": [
    {
     "data": {
      "text/plain": [
       "h5py._hl.dataset.Dataset"
      ]
     },
     "execution_count": 25,
     "metadata": {},
     "output_type": "execute_result"
    }
   ],
   "source": [
    "#Si queremos ver qué es cada cosa, tenemos que preguntar a sus referencias respectivas\n",
    "r = f['rand1']\n",
    "type(r)"
   ]
  },
  {
   "cell_type": "code",
   "execution_count": 26,
   "metadata": {},
   "outputs": [
    {
     "data": {
      "text/plain": [
       "h5py._hl.group.Group"
      ]
     },
     "execution_count": 26,
     "metadata": {},
     "output_type": "execute_result"
    }
   ],
   "source": [
    "g = f['Data']\n",
    "type(g)"
   ]
  },
  {
   "cell_type": "code",
   "execution_count": 27,
   "metadata": {},
   "outputs": [],
   "source": [
    "#Recordamos que r es una referencia al dataset, por lo tanto NO está en memoria RAM.\n",
    "#Para ellom debemos COPIAR los datos del disco a la RAM utilizando [:]\n",
    "rand_ram = r[:]"
   ]
  },
  {
   "cell_type": "code",
   "execution_count": 28,
   "metadata": {},
   "outputs": [
    {
     "data": {
      "text/plain": [
       "array([-0.750514,  1.513391, -0.257402, ...,  0.629598,  0.037971,\n",
       "        0.256897])"
      ]
     },
     "execution_count": 28,
     "metadata": {},
     "output_type": "execute_result"
    }
   ],
   "source": [
    "rand_ram"
   ]
  },
  {
   "cell_type": "code",
   "execution_count": 29,
   "metadata": {},
   "outputs": [],
   "source": [
    "f.close()"
   ]
  },
  {
   "cell_type": "markdown",
   "metadata": {},
   "source": [
    "### Atributos\n",
    "\n",
    "Para usar los atributos, la librería incorpora un componente (objeto) que se llama `attrs`, y está asociado a todos los objetos HDF5, ya sea file, dataset y group.\n",
    "\n",
    "Los atributos nos sirven para agregar **información** adicional que me permitan tener registro de qué son los datos incluidos. Estos son metadatos.\n",
    "\n",
    "METADATOS útiles en el contexto astronómico:\n",
    "   - Fecha de creación y lugar.\n",
    "   - Versión del código que utilicé.\n",
    "   - Modificaciones a la versión utilizada.\n",
    "   - Parámetros utilizados.\n",
    "   - Opciones de compilación.\n",
    "   - Naturaleza de los datos (pro-tip, qué son?)\n",
    "   - Unidades.\n",
    "   - etc..."
   ]
  },
  {
   "cell_type": "code",
   "execution_count": 30,
   "metadata": {},
   "outputs": [],
   "source": [
    "f = h5py.File('prueba.h5', 'r+')"
   ]
  },
  {
   "cell_type": "code",
   "execution_count": 31,
   "metadata": {},
   "outputs": [
    {
     "data": {
      "text/plain": [
       "h5py._hl.attrs.AttributeManager"
      ]
     },
     "execution_count": 31,
     "metadata": {},
     "output_type": "execute_result"
    }
   ],
   "source": [
    "type(f.attrs)"
   ]
  },
  {
   "cell_type": "markdown",
   "metadata": {},
   "source": [
    "Esta referencia `f.attrs` nos permite manipular los atributos del archivo, es decir, asociados al Grupo raíz `/`."
   ]
  },
  {
   "cell_type": "code",
   "execution_count": 32,
   "metadata": {},
   "outputs": [
    {
     "data": {
      "text/plain": [
       "<KeysViewHDF5 []>"
      ]
     },
     "execution_count": 32,
     "metadata": {},
     "output_type": "execute_result"
    }
   ],
   "source": [
    "#Podemos consultar los attrs de este grupo:\n",
    "f.attrs.keys()"
   ]
  },
  {
   "cell_type": "code",
   "execution_count": 33,
   "metadata": {},
   "outputs": [],
   "source": [
    "#Y podemos agregar nuevos:\n",
    "f.attrs['Description'] = 'Este es un archivo de ejemplo'"
   ]
  },
  {
   "cell_type": "code",
   "execution_count": 34,
   "metadata": {},
   "outputs": [
    {
     "data": {
      "text/plain": [
       "<KeysViewHDF5 ['Description']>"
      ]
     },
     "execution_count": 34,
     "metadata": {},
     "output_type": "execute_result"
    }
   ],
   "source": [
    "f.attrs.keys()"
   ]
  },
  {
   "cell_type": "code",
   "execution_count": 35,
   "metadata": {},
   "outputs": [
    {
     "data": {
      "text/plain": [
       "'Este es un archivo de ejemplo'"
      ]
     },
     "execution_count": 35,
     "metadata": {},
     "output_type": "execute_result"
    }
   ],
   "source": [
    "f.attrs['Description']"
   ]
  },
  {
   "cell_type": "code",
   "execution_count": 36,
   "metadata": {},
   "outputs": [],
   "source": [
    "#Otros ejemplos:\n",
    "f.attrs['Fecha'] = '2023-11-14'"
   ]
  },
  {
   "cell_type": "code",
   "execution_count": 37,
   "metadata": {},
   "outputs": [],
   "source": [
    "f.attrs['Númeroentero'] = 207"
   ]
  },
  {
   "cell_type": "markdown",
   "metadata": {},
   "source": [
    "Los atributos pueden estar asociados a cualquier Grupo o Dataset de un HDF5:"
   ]
  },
  {
   "cell_type": "code",
   "execution_count": 38,
   "metadata": {},
   "outputs": [
    {
     "data": {
      "text/plain": [
       "<KeysViewHDF5 []>"
      ]
     },
     "execution_count": 38,
     "metadata": {},
     "output_type": "execute_result"
    }
   ],
   "source": [
    "#Ej. agregamos información a nuestro grupo \"Header\":\n",
    "f['Header'].attrs.keys()"
   ]
  },
  {
   "cell_type": "code",
   "execution_count": 39,
   "metadata": {},
   "outputs": [],
   "source": [
    "#Método 1:\n",
    "f['Header'].attrs['Clase'] = 'HCAI 2023'"
   ]
  },
  {
   "cell_type": "code",
   "execution_count": 40,
   "metadata": {},
   "outputs": [],
   "source": [
    "#Método 2:\n",
    "g = f['Header']\n",
    "g.attrs['Clima'] = 'Sunny'"
   ]
  },
  {
   "cell_type": "code",
   "execution_count": 41,
   "metadata": {},
   "outputs": [],
   "source": [
    "#Método 3:\n",
    "a = g.attrs\n",
    "#También: a = f['Header'].attrs\n",
    "a['Hora'] = '12:44'"
   ]
  },
  {
   "cell_type": "code",
   "execution_count": 42,
   "metadata": {},
   "outputs": [
    {
     "data": {
      "text/plain": [
       "<KeysViewHDF5 ['Clase', 'Clima', 'Hora']>"
      ]
     },
     "execution_count": 42,
     "metadata": {},
     "output_type": "execute_result"
    }
   ],
   "source": [
    "#Consultamos los atributos creados\n",
    "f['Header'].attrs.keys()"
   ]
  },
  {
   "cell_type": "code",
   "execution_count": 43,
   "metadata": {},
   "outputs": [],
   "source": [
    "#También, podemos asociar atributos a dataset:\n",
    "f['rand1'].attrs['Description'] = 'Array de números aleatorios que siguen una distribución normal con sigma en 0'"
   ]
  },
  {
   "cell_type": "code",
   "execution_count": 44,
   "metadata": {},
   "outputs": [],
   "source": [
    "f.close()"
   ]
  }
 ],
 "metadata": {
  "kernelspec": {
   "display_name": "Python 3",
   "language": "python",
   "name": "python3"
  },
  "language_info": {
   "codemirror_mode": {
    "name": "ipython",
    "version": 3
   },
   "file_extension": ".py",
   "mimetype": "text/x-python",
   "name": "python",
   "nbconvert_exporter": "python",
   "pygments_lexer": "ipython3",
   "version": "3.8.5"
  }
 },
 "nbformat": 4,
 "nbformat_minor": 4
}
