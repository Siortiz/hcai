{
 "cells": [
  {
   "cell_type": "code",
   "execution_count": 1,
   "id": "ab07d9ed",
   "metadata": {},
   "outputs": [],
   "source": [
    "import pandas as pd\n",
    "import h5py\n",
    "\n",
    "import glob\n",
    "\n",
    "# Ruta al directorio que contiene los archivos HDF5\n",
    "directorio_archivos = '/home/seba/SAG'\n",
    "\n",
    "# Patrón para buscar archivos HDF5\n",
    "patron_archivos = '*.hdf5'  # O '*.hdf5' según la extensión de tus archivos\n",
    "\n",
    "# Lista de archivos HDF5\n",
    "lista_de_archivos = glob.glob(f'{directorio_archivos}/{patron_archivos}')\n",
    "\n",
    "# Ahora, puedes utilizar la lista_de_archivos en el bucle que recorre los archivos HDF5\n",
    "\n",
    "\n",
    "# DataFrame que contiene los grupos compactos\n",
    "compact_groups = pd.read_csv('compact_groups.csv')\n",
    "\n",
    "# Iterar sobre archivos HDF5\n",
    "for archivo_nombre in lista_de_archivos:\n",
    "    with h5py.File(archivo_nombre, \"r\") as archivo:\n",
    "        # Transformar datos del archivo en un DataFrame\n",
    "        data = pd.DataFrame({\n",
    "            'MainHaloID': archivo['MainHaloID'][:].ravel(),\n",
    "            'HaloID': archivo['HaloID'][:].ravel(),\n",
    "            'R200': archivo['Halo/R200c'][:].ravel() * 0.674,\n",
    "            'Galaxy_Type': archivo['Galaxy_Type'][:].ravel(),\n",
    "            'r': archivo['Magnitudes/Mag_rS'][:].ravel(),\n",
    "            'X': archivo['X'][:].ravel()*0.674,\n",
    "            'Y': archivo['Y'][:].ravel()*0.674,\n",
    "            'Z': archivo['Z'][:].ravel()*0.674,\n",
    "            'Vx': archivo['Vx'][:].ravel(),\n",
    "            'Vy': archivo['Vy'][:].ravel(),\n",
    "            'Vz': archivo['Vz'][:].ravel()\n",
    "            # Agrega otras columnas según sea necesario\n",
    "        })\n",
    "\n",
    "        # Filtrar las filas que coinciden con MainHaloID en compact_groups\n",
    "        matching_rows = data[data['MainHaloID'].isin(compact_groups['MainHaloID'])]\n",
    "\n",
    "        # Agregar las filas al DataFrame compact_groups\n",
    "        compact_groups = pd.concat([compact_groups, matching_rows])\n",
    "\n",
    "# Guardar el DataFrame compact_groups actualizado en un archivo CSV\n",
    "compact_groups.to_csv('compact_groups_actualizado.csv', index=False)\n"
   ]
  },
  {
   "cell_type": "code",
   "execution_count": null,
   "id": "b494f840",
   "metadata": {},
   "outputs": [],
   "source": []
  }
 ],
 "metadata": {
  "kernelspec": {
   "display_name": "Python 3 (ipykernel)",
   "language": "python",
   "name": "python3"
  },
  "language_info": {
   "codemirror_mode": {
    "name": "ipython",
    "version": 3
   },
   "file_extension": ".py",
   "mimetype": "text/x-python",
   "name": "python",
   "nbconvert_exporter": "python",
   "pygments_lexer": "ipython3",
   "version": "3.11.4"
  }
 },
 "nbformat": 4,
 "nbformat_minor": 5
}
