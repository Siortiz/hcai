{
 "cells": [
  {
   "cell_type": "code",
   "execution_count": 3,
   "metadata": {},
   "outputs": [],
   "source": [
    "import numpy as np\n",
    "import h5py \n",
    "import matplotlib.pyplot as plt\n",
    "import pandas as pd\n",
    "from mpl_toolkits.mplot3d import Axes3D"
   ]
  },
  {
   "cell_type": "code",
   "execution_count": 20,
   "metadata": {},
   "outputs": [],
   "source": [
    "candidates = pd.read_csv('candidatos_fase3_002.csv')\n",
    "candidates\n",
    "data = pd.read_csv('Simulation_002.csv')"
   ]
  },
  {
   "cell_type": "code",
   "execution_count": 21,
   "metadata": {},
   "outputs": [
    {
     "name": "stdout",
     "output_type": "stream",
     "text": [
      "0\n",
      "0\n"
     ]
    }
   ],
   "source": [
    "for i in range(len(candidates)):\n",
    "    data_reference_frame_changed = data.copy()\n",
    "    data_reference_frame_changed['X'] -= candidates['X'][i]\n",
    "    data_reference_frame_changed['Y'] -= candidates['Y'][i]\n",
    "    data_reference_frame_changed['Z'] -= candidates['Z'][i]\n",
    "    #Todas las galaxias que están dentro de la caja de lado 12R200\n",
    "    caja = data_reference_frame_changed.loc[(abs(data_reference_frame_changed['X']) < 6* candidates['R200c'][i]) & (abs(data_reference_frame_changed['Y']) < 6* candidates['R200c'][i]) & (abs(data_reference_frame_changed['Z']) < 6* candidates['R200c'][i])]\n",
    "    \n",
    "    aislamiento = caja.loc[caja['MainHaloID'] != candidates['MainHaloID'][i]]\n",
    "    print(len((aislamiento)))\n",
    "    \n",
    "    # Modificar el DataFrame original según la condición\n",
    "    if len(aislamiento) != 0:\n",
    "        candidates = candidates.drop(index=i)"
   ]
  },
  {
   "cell_type": "code",
   "execution_count": 22,
   "metadata": {},
   "outputs": [],
   "source": [
    "candidates.to_csv('Grupos_002.csv')"
   ]
  }
 ],
 "metadata": {
  "kernelspec": {
   "display_name": "Python 3",
   "language": "python",
   "name": "python3"
  },
  "language_info": {
   "codemirror_mode": {
    "name": "ipython",
    "version": 3
   },
   "file_extension": ".py",
   "mimetype": "text/x-python",
   "name": "python",
   "nbconvert_exporter": "python",
   "pygments_lexer": "ipython3",
   "version": "3.8.5"
  }
 },
 "nbformat": 4,
 "nbformat_minor": 5
}
